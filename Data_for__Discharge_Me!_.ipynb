{
  "nbformat": 4,
  "nbformat_minor": 0,
  "metadata": {
    "colab": {
      "provenance": []
    },
    "kernelspec": {
      "name": "python3",
      "display_name": "Python 3"
    },
    "language_info": {
      "name": "python"
    }
  },
  "cells": [
    {
      "cell_type": "markdown",
      "source": [
        "# Data for the \"Discharge Me!\": BioNLP ACL'24 Shared Task on Streamlining Discharge Documentation"
      ],
      "metadata": {
        "id": "Gy8pCaQGR1-r"
      }
    },
    {
      "cell_type": "markdown",
      "source": [
        "The following notebook provides code and information on how to download the datasets and get the data splits for the \"Discharge Me!\" shared task. A successfully credentialed PhysioNet account is required. Please refer to https://physionet.org/about/citi-course/ for information on the data access requirements."
      ],
      "metadata": {
        "id": "mU1omrrIStwJ"
      }
    },
    {
      "cell_type": "markdown",
      "source": [
        "To download the data, please enter your PhysioNet credentials in the below cell, select Runtime -> Run all, wait for completion, then check the `discharge-me-data` folder on the left-hand pane. You may choose to run the notebook locally or on Colab and then download the `.csv.gz` files that you need."
      ],
      "metadata": {
        "id": "x63rweWvFivV"
      }
    },
    {
      "cell_type": "markdown",
      "source": [
        "### Download necessary raw data files from PhysioNet:"
      ],
      "metadata": {
        "id": "JugyVogNTExn"
      }
    },
    {
      "cell_type": "code",
      "execution_count": null,
      "metadata": {
        "id": "TJcHqzmYNxdX"
      },
      "outputs": [],
      "source": [
        "username = '' # enter your PhysioNet username\n",
        "password = '' # enter your PhysioNet password"
      ]
    },
    {
      "cell_type": "code",
      "source": [
        "!wget -r -N -c -np --user $username --password=$password https://physionet.org/files/mimic-iv-note/2.2/\n",
        "!wget -r -N -c -np --user $username --password=$password https://physionet.org/files/mimic-iv-ed/2.2/"
      ],
      "metadata": {
        "id": "DNeyx81zkpdw"
      },
      "execution_count": null,
      "outputs": []
    },
    {
      "cell_type": "markdown",
      "source": [
        "### Filtering Datasets"
      ],
      "metadata": {
        "id": "Rx9tmjZ7c8U_"
      }
    },
    {
      "cell_type": "markdown",
      "source": [
        "Imports"
      ],
      "metadata": {
        "id": "PXIvjt65dJXZ"
      }
    },
    {
      "cell_type": "code",
      "source": [
        "import re\n",
        "import os\n",
        "import pandas as pd"
      ],
      "metadata": {
        "id": "q9GadSCpdHfZ"
      },
      "execution_count": null,
      "outputs": []
    },
    {
      "cell_type": "markdown",
      "source": [
        "Load Data"
      ],
      "metadata": {
        "id": "xw5bE0GAMx5K"
      }
    },
    {
      "cell_type": "code",
      "source": [
        "df_radiology = pd.read_csv('/content/physionet.org/files/mimic-iv-note/2.2/note/radiology.csv.gz', compression='gzip', header=0, sep=',', quotechar='\"')"
      ],
      "metadata": {
        "id": "Z9fhU-n2MxZA"
      },
      "execution_count": null,
      "outputs": []
    },
    {
      "cell_type": "code",
      "source": [
        "df_discharge = pd.read_csv('/content/physionet.org/files/mimic-iv-note/2.2/note/discharge.csv.gz', compression='gzip', header=0, sep=',', quotechar='\"')"
      ],
      "metadata": {
        "id": "w1KSDZwSNMfV"
      },
      "execution_count": null,
      "outputs": []
    },
    {
      "cell_type": "code",
      "source": [
        "df_diagnoses_ed = pd.read_csv('/content/physionet.org/files/mimic-iv-ed/2.2/ed/diagnosis.csv.gz', compression='gzip', header=0, sep=',', quotechar='\"')\n",
        "df_triage_ed = pd.read_csv('/content/physionet.org/files/mimic-iv-ed/2.2/ed/triage.csv.gz', compression='gzip', header=0, sep=',', quotechar='\"')\n",
        "df_stays_ed = pd.read_csv('/content/physionet.org/files/mimic-iv-ed/2.2/ed/edstays.csv.gz', compression='gzip', header=0, sep=',', quotechar='\"')"
      ],
      "metadata": {
        "id": "DeFejhDidOe3"
      },
      "execution_count": null,
      "outputs": []
    },
    {
      "cell_type": "markdown",
      "source": [
        "Filter Emergency Department (ED) Admissions"
      ],
      "metadata": {
        "id": "gvir815ddLsf"
      }
    },
    {
      "cell_type": "code",
      "source": [
        "df_triage_ed = df_triage_ed[df_triage_ed['chiefcomplaint'].notnull()]\n",
        "\n",
        "valid_stay_ids = set(df_triage_ed['stay_id']) & set(df_diagnoses_ed['stay_id'])\n",
        "\n",
        "df_stays_ed = df_stays_ed[df_stays_ed['stay_id'].isin(valid_stay_ids)]\n",
        "\n",
        "df_stays_ed.dropna(subset=['hadm_id'], inplace=True)\n",
        "\n",
        "valid_ed_admission_ids = df_stays_ed['hadm_id'].unique()"
      ],
      "metadata": {
        "id": "0V335HwwMJ9L"
      },
      "execution_count": null,
      "outputs": []
    },
    {
      "cell_type": "markdown",
      "source": [
        "Filter Radiology Reports"
      ],
      "metadata": {
        "id": "85hn30yZNdyv"
      }
    },
    {
      "cell_type": "code",
      "source": [
        "df_radiology.dropna(subset=['hadm_id'], inplace=True)\n",
        "\n",
        "df_radiology = df_radiology[df_radiology['note_type'] != 'AR']\n",
        "\n",
        "valid_radiology_admission_ids = df_radiology['hadm_id'].unique()"
      ],
      "metadata": {
        "id": "ESKevVayNfry"
      },
      "execution_count": null,
      "outputs": []
    },
    {
      "cell_type": "markdown",
      "source": [
        "Filter Discharge Summaries"
      ],
      "metadata": {
        "id": "z-n9BfakN3Oj"
      }
    },
    {
      "cell_type": "code",
      "source": [
        "df_discharge.dropna(subset=['hadm_id'], inplace=True)\n",
        "\n",
        "df_target = df_discharge[df_discharge['text'].str.contains('Discharge Instruction') & df_discharge['text'].str.contains('Brief Hospital Course')]"
      ],
      "metadata": {
        "id": "3CFtgPzDN4bW"
      },
      "execution_count": null,
      "outputs": []
    },
    {
      "cell_type": "markdown",
      "source": [
        "Extracting Discharge Instructions Sections"
      ],
      "metadata": {
        "id": "vNKF2LaON66P"
      }
    },
    {
      "cell_type": "code",
      "source": [
        "df_target['discharge_instructions'] = df_target['text'].apply(lambda x: re.findall(r'Discharge Instructions:\\n(.*?)Followup Instruction', x, re.DOTALL))\n",
        "\n",
        "df_target['discharge_instructions'] = df_target['discharge_instructions'].apply(lambda x: [i.strip() for i in x])\n",
        "\n",
        "df_target = df_target[df_target['discharge_instructions'].str.len() == 1]\n",
        "\n",
        "df_target['discharge_instructions'].str.len().value_counts()\n",
        "\n",
        "df_target = df_target.explode('discharge_instructions')"
      ],
      "metadata": {
        "id": "nNmSkVK8N9fl"
      },
      "execution_count": null,
      "outputs": []
    },
    {
      "cell_type": "markdown",
      "source": [
        "Extracting Brief Hospital Course Sections"
      ],
      "metadata": {
        "id": "zKFPwaW0OLTt"
      }
    },
    {
      "cell_type": "code",
      "source": [
        "df_target['brief_hospital_course'] = df_target['text'].apply(lambda x: re.findall(r'Brief Hospital Course:\\s*\\n{0,2}(.*?)(?=\\n\\s*\\n{0,2}\\s*[A-Z_]+[^\\n:]+:\\n)', x, re.DOTALL))\n",
        "\n",
        "df_target['brief_hospital_course'].str.len().value_counts()\n",
        "\n",
        "df_target = df_target[df_target['brief_hospital_course'].str.len() == 1]\n",
        "\n",
        "df_target = df_target.explode('brief_hospital_course')"
      ],
      "metadata": {
        "id": "wr2YfSbmOLH6"
      },
      "execution_count": null,
      "outputs": []
    },
    {
      "cell_type": "markdown",
      "source": [
        "Filtering Target Sections"
      ],
      "metadata": {
        "id": "2-pC78McOZil"
      }
    },
    {
      "cell_type": "code",
      "source": [
        "df_target = df_target[df_target['discharge_instructions'] != '']\n",
        "\n",
        "valid_discharge_admission_ids = df_target['hadm_id'].unique()"
      ],
      "metadata": {
        "id": "82VCu-RpOXtJ"
      },
      "execution_count": null,
      "outputs": []
    },
    {
      "cell_type": "markdown",
      "source": [
        "Filtering Tables"
      ],
      "metadata": {
        "id": "Hm6sCzWROcHY"
      }
    },
    {
      "cell_type": "code",
      "source": [
        "valid_admission_ids = set(valid_ed_admission_ids) & set(valid_radiology_admission_ids) & set(valid_discharge_admission_ids)"
      ],
      "metadata": {
        "id": "4sJtJIa-OfXj"
      },
      "execution_count": null,
      "outputs": []
    },
    {
      "cell_type": "code",
      "source": [
        "valid_admission_ids = set(valid_ed_admission_ids) & set(valid_radiology_admission_ids) & set(valid_discharge_admission_ids)\n",
        "\n",
        "df_stays_ed = df_stays_ed[df_stays_ed['hadm_id'].isin(valid_admission_ids)]\n",
        "\n",
        "valid_stay_ids = set(df_stays_ed['stay_id'])\n",
        "\n",
        "df_diagnoses_ed = df_diagnoses_ed[df_diagnoses_ed['stay_id'].isin(valid_stay_ids)]\n",
        "df_triage_ed = df_triage_ed[df_triage_ed['stay_id'].isin(valid_stay_ids)]\n",
        "df_radiology = df_radiology[df_radiology['hadm_id'].isin(valid_admission_ids)]\n",
        "df_discharge = df_discharge[df_discharge['hadm_id'].isin(valid_admission_ids)]\n",
        "df_target = df_target[df_target['hadm_id'].isin(valid_admission_ids)]"
      ],
      "metadata": {
        "id": "gVxHU-svSfqs"
      },
      "execution_count": null,
      "outputs": []
    },
    {
      "cell_type": "markdown",
      "source": [
        "Calculating Word Counts"
      ],
      "metadata": {
        "id": "G3Db2PbaSs7R"
      }
    },
    {
      "cell_type": "code",
      "source": [
        "df_target['discharge_instructions_word_count'] = df_target['discharge_instructions'].apply(lambda x: len(str(x).split(\" \")))\n",
        "df_target['brief_hospital_course_word_count'] = df_target['brief_hospital_course'].apply(lambda x: len(str(x).split(\" \")))\n",
        "\n",
        "df_target = df_target[['note_id', 'hadm_id', 'discharge_instructions', 'brief_hospital_course', 'discharge_instructions_word_count', 'brief_hospital_course_word_count']]\n",
        "print(df_target['discharge_instructions_word_count'].describe())\n",
        "print(df_target['brief_hospital_course_word_count'].describe())"
      ],
      "metadata": {
        "id": "ZFVQOTJASvDX"
      },
      "execution_count": null,
      "outputs": []
    },
    {
      "cell_type": "markdown",
      "source": [
        "### Creating Datasets (Note: Public has been renamed to Phase I, Hidden has been renamed to Phase II)"
      ],
      "metadata": {
        "id": "VjlZBlwPTD5O"
      }
    },
    {
      "cell_type": "markdown",
      "source": [
        "Processing"
      ],
      "metadata": {
        "id": "rju10JBeTLr7"
      }
    },
    {
      "cell_type": "code",
      "source": [
        "df_stays_ed.reset_index(drop=True, inplace=True)\n",
        "df_diagnoses_ed.reset_index(drop=True, inplace=True)\n",
        "df_triage_ed.reset_index(drop=True, inplace=True)\n",
        "df_radiology.reset_index(drop=True, inplace=True)\n",
        "df_discharge.reset_index(drop=True, inplace=True)\n",
        "df_target.reset_index(drop=True, inplace=True)"
      ],
      "metadata": {
        "id": "JpNM9sI2TImx"
      },
      "execution_count": null,
      "outputs": []
    },
    {
      "cell_type": "code",
      "source": [
        "df_stays_ed['hadm_id'] = df_stays_ed['hadm_id'].astype(int)\n",
        "df_radiology['hadm_id'] = df_radiology['hadm_id'].astype(int)\n",
        "df_discharge['hadm_id'] = df_discharge['hadm_id'].astype(int)\n",
        "df_target['hadm_id'] = df_target['hadm_id'].astype(int)"
      ],
      "metadata": {
        "id": "9BdAxHvDTKgc"
      },
      "execution_count": null,
      "outputs": []
    },
    {
      "cell_type": "markdown",
      "source": [
        "Data Splits"
      ],
      "metadata": {
        "id": "G4fYGbWZTM6e"
      }
    },
    {
      "cell_type": "code",
      "source": [
        "# Split dataset into phase 1 and phase 2 at 90%, 10%\n",
        "df_target_phase_1 = df_target.sample(frac=0.9, random_state=42)\n",
        "df_target_phase_2 = df_target.drop(df_target_phase_1.index)\n",
        "\n",
        "df_discharge_phase_1 = df_discharge[df_discharge['hadm_id'].isin(df_target_phase_1['hadm_id'])]\n",
        "df_discharge_phase_2 = df_discharge[df_discharge['hadm_id'].isin(df_target_phase_2['hadm_id'])]\n",
        "\n",
        "df_radiology_phase_1 = df_radiology[df_radiology['hadm_id'].isin(df_target_phase_1['hadm_id'])]\n",
        "df_radiology_phase_2 = df_radiology[df_radiology['hadm_id'].isin(df_target_phase_2['hadm_id'])]\n",
        "\n",
        "df_stays_ed_phase_1 = df_stays_ed[df_stays_ed['hadm_id'].isin(df_target_phase_1['hadm_id'])]\n",
        "df_stays_ed_phase_2 = df_stays_ed[df_stays_ed['hadm_id'].isin(df_target_phase_2['hadm_id'])]\n",
        "\n",
        "df_diagnoses_ed_phase_1 = df_diagnoses_ed[df_diagnoses_ed['stay_id'].isin(df_stays_ed_phase_1['stay_id'])]\n",
        "df_diagnoses_ed_phase_2 = df_diagnoses_ed[df_diagnoses_ed['stay_id'].isin(df_stays_ed_phase_2['stay_id'])]\n",
        "\n",
        "df_triage_ed_phase_1 = df_triage_ed[df_triage_ed['stay_id'].isin(df_stays_ed_phase_1['stay_id'])]\n",
        "df_triage_ed_phase_2 = df_triage_ed[df_triage_ed['stay_id'].isin(df_stays_ed_phase_2['stay_id'])]"
      ],
      "metadata": {
        "id": "f2cjVNNXTPjq"
      },
      "execution_count": null,
      "outputs": []
    },
    {
      "cell_type": "code",
      "source": [
        "# Split phase 1 into train, valid, test at 70%, 15%, 15%\n",
        "df_target_train = df_target_phase_1.sample(frac=0.7, random_state=42)\n",
        "df_target_valid = df_target_phase_1.drop(df_target_train.index).sample(frac=0.5, random_state=42)\n",
        "df_target_phase_1_test = df_target_phase_1.drop(df_target_train.index).drop(df_target_valid.index)\n",
        "\n",
        "df_discharge_train = df_discharge_phase_1[df_discharge_phase_1['hadm_id'].isin(df_target_train['hadm_id'])]\n",
        "df_discharge_valid = df_discharge_phase_1[df_discharge_phase_1['hadm_id'].isin(df_target_valid['hadm_id'])]\n",
        "df_discharge_phase_1_test = df_discharge_phase_1[df_discharge_phase_1['hadm_id'].isin(df_target_phase_1_test['hadm_id'])]\n",
        "\n",
        "df_radiology_train = df_radiology_phase_1[df_radiology_phase_1['hadm_id'].isin(df_target_train['hadm_id'])]\n",
        "df_radiology_valid = df_radiology_phase_1[df_radiology_phase_1['hadm_id'].isin(df_target_valid['hadm_id'])]\n",
        "df_radiology_phase_1_test = df_radiology_phase_1[df_radiology_phase_1['hadm_id'].isin(df_target_phase_1_test['hadm_id'])]\n",
        "\n",
        "df_stays_ed_train = df_stays_ed_phase_1[df_stays_ed_phase_1['hadm_id'].isin(df_target_train['hadm_id'])]\n",
        "df_stays_ed_valid = df_stays_ed_phase_1[df_stays_ed_phase_1['hadm_id'].isin(df_target_valid['hadm_id'])]\n",
        "df_stays_ed_phase_1_test = df_stays_ed_phase_1[df_stays_ed_phase_1['hadm_id'].isin(df_target_phase_1_test['hadm_id'])]\n",
        "\n",
        "df_diagnoses_ed_train = df_diagnoses_ed_phase_1[df_diagnoses_ed_phase_1['stay_id'].isin(df_stays_ed_train['stay_id'])]\n",
        "df_diagnoses_ed_valid = df_diagnoses_ed_phase_1[df_diagnoses_ed_phase_1['stay_id'].isin(df_stays_ed_valid['stay_id'])]\n",
        "df_diagnoses_ed_phase_1_test = df_diagnoses_ed_phase_1[df_diagnoses_ed_phase_1['stay_id'].isin(df_stays_ed_phase_1_test['stay_id'])]\n",
        "\n",
        "df_triage_ed_train = df_triage_ed_phase_1[df_triage_ed_phase_1['stay_id'].isin(df_stays_ed_train['stay_id'])]\n",
        "df_triage_ed_valid = df_triage_ed_phase_1[df_triage_ed_phase_1['stay_id'].isin(df_stays_ed_valid['stay_id'])]\n",
        "df_triage_ed_phase_1_test = df_triage_ed_phase_1[df_triage_ed_phase_1['stay_id'].isin(df_stays_ed_phase_1_test['stay_id'])]"
      ],
      "metadata": {
        "id": "luZvaFQhTQ-Z"
      },
      "execution_count": null,
      "outputs": []
    },
    {
      "cell_type": "markdown",
      "source": [
        "### Amendment on 02/20/2024 (Thanks @mchizhik!)"
      ],
      "metadata": {
        "id": "ouzLuuU0TaFD"
      }
    },
    {
      "cell_type": "code",
      "source": [
        "df_target_phase_1_test_hadm_id = df_target_phase_1_test['hadm_id'].tolist()"
      ],
      "metadata": {
        "id": "CWY3EsCBTonH"
      },
      "execution_count": null,
      "outputs": []
    },
    {
      "cell_type": "code",
      "source": [
        "# Remove rows in all df_target dataframes where discharge_instructions_word_count is less than 10\n",
        "df_target_phase_1_test = df_target_phase_1_test[df_target_phase_1_test['discharge_instructions_word_count'] >= 10]\n",
        "df_target_valid = df_target_valid[df_target_valid['discharge_instructions_word_count'] >= 10]\n",
        "df_target_train = df_target_train[df_target_train['discharge_instructions_word_count'] >= 10]\n",
        "df_target_phase_2 = df_target_phase_2[df_target_phase_2['discharge_instructions_word_count'] >= 10]\n",
        "\n",
        "# Remove rows in all df_target dataframes where brief_hospital_course_word_count is less than 10\n",
        "df_target_phase_1_test = df_target_phase_1_test[df_target_phase_1_test['brief_hospital_course_word_count'] >= 10]\n",
        "df_target_valid = df_target_valid[df_target_valid['brief_hospital_course_word_count'] >= 10]\n",
        "df_target_train = df_target_train[df_target_train['brief_hospital_course_word_count'] >= 10]\n",
        "df_target_phase_2 = df_target_phase_2[df_target_phase_2['brief_hospital_course_word_count'] >= 10]\n",
        "\n",
        "df_target_phase_1_test_hadm_id_new = df_target_phase_1_test['hadm_id'].tolist()\n",
        "df_target_valid_hadm_id_new = df_target_valid['hadm_id'].tolist()\n",
        "df_target_train_hadm_id_new = df_target_train['hadm_id'].tolist()\n",
        "df_target_phase_2_hadm_id_new = df_target_phase_2['hadm_id'].tolist()"
      ],
      "metadata": {
        "id": "5Kqvrm3STqez"
      },
      "execution_count": null,
      "outputs": []
    },
    {
      "cell_type": "code",
      "source": [
        "# Filtering rest of the dataframes based on updated list of hadm_ids\n",
        "df_discharge_phase_1_test = df_discharge_phase_1_test[df_discharge_phase_1_test['hadm_id'].isin(df_target_phase_1_test_hadm_id_new)]\n",
        "df_radiology_phase_1_test = df_radiology_phase_1_test[df_radiology_phase_1_test['hadm_id'].isin(df_target_phase_1_test_hadm_id_new)]\n",
        "df_stays_ed_phase_1_test = df_stays_ed_phase_1_test[df_stays_ed_phase_1_test['hadm_id'].isin(df_target_phase_1_test_hadm_id_new)]\n",
        "df_diagnoses_ed_phase_1_test = df_diagnoses_ed_phase_1_test[df_diagnoses_ed_phase_1_test['stay_id'].isin(df_stays_ed_phase_1_test['stay_id'])]\n",
        "df_triage_ed_phase_1_test = df_triage_ed_phase_1_test[df_triage_ed_phase_1_test['stay_id'].isin(df_stays_ed_phase_1_test['stay_id'])]\n",
        "\n",
        "df_discharge_valid = df_discharge_valid[df_discharge_valid['hadm_id'].isin(df_target_valid_hadm_id_new)]\n",
        "df_radiology_valid = df_radiology_valid[df_radiology_valid['hadm_id'].isin(df_target_valid_hadm_id_new)]\n",
        "df_stays_ed_valid = df_stays_ed_valid[df_stays_ed_valid['hadm_id'].isin(df_target_valid_hadm_id_new)]\n",
        "df_diagnoses_ed_valid = df_diagnoses_ed_valid[df_diagnoses_ed_valid['stay_id'].isin(df_stays_ed_valid['stay_id'])]\n",
        "df_triage_ed_valid = df_triage_ed_valid[df_triage_ed_valid['stay_id'].isin(df_stays_ed_valid['stay_id'])]\n",
        "\n",
        "df_discharge_train = df_discharge_train[df_discharge_train['hadm_id'].isin(df_target_train_hadm_id_new)]\n",
        "df_radiology_train = df_radiology_train[df_radiology_train['hadm_id'].isin(df_target_train_hadm_id_new)]\n",
        "df_stays_ed_train = df_stays_ed_train[df_stays_ed_train['hadm_id'].isin(df_target_train_hadm_id_new)]\n",
        "df_diagnoses_ed_train = df_diagnoses_ed_train[df_diagnoses_ed_train['stay_id'].isin(df_stays_ed_train['stay_id'])]\n",
        "df_triage_ed_train = df_triage_ed_train[df_triage_ed_train['stay_id'].isin(df_stays_ed_train['stay_id'])]\n",
        "\n",
        "df_discharge_phase_2 = df_discharge_phase_2[df_discharge_phase_2['hadm_id'].isin(df_target_phase_2_hadm_id_new)]\n",
        "df_radiology_phase_2 = df_radiology_phase_2[df_radiology_phase_2['hadm_id'].isin(df_target_phase_2_hadm_id_new)]\n",
        "df_stays_ed_phase_2 = df_stays_ed_phase_2[df_stays_ed_phase_2['hadm_id'].isin(df_target_phase_2_hadm_id_new)]\n",
        "df_diagnoses_ed_phase_2 = df_diagnoses_ed_phase_2[df_diagnoses_ed_phase_2['stay_id'].isin(df_stays_ed_phase_2['stay_id'])]\n",
        "df_triage_ed_phase_2 = df_triage_ed_phase_2[df_triage_ed_phase_2['stay_id'].isin(df_stays_ed_phase_2['stay_id'])]"
      ],
      "metadata": {
        "id": "hza28obmTvtV"
      },
      "execution_count": null,
      "outputs": []
    },
    {
      "cell_type": "markdown",
      "source": [
        "Verifying sample counts (should match those on the website: https://stanford-aimi.github.io/discharge-me)"
      ],
      "metadata": {
        "id": "wqRbj61G9jj2"
      }
    },
    {
      "cell_type": "code",
      "source": [
        "print(df_target_train.shape)\n",
        "print(df_target_valid.shape)\n",
        "print(df_target_phase_1_test.shape)\n",
        "print(df_target_phase_2.shape)\n",
        "assert(df_target_train.shape[0] + df_target_valid.shape[0] + df_target_phase_1_test.shape[0] + df_target_phase_2.shape[0] == 109168)\n",
        "print(\"\\n\")\n",
        "\n",
        "print(df_discharge_train.shape)\n",
        "print(df_discharge_valid.shape)\n",
        "print(df_discharge_phase_1_test.shape)\n",
        "print(df_discharge_phase_2.shape)\n",
        "assert(df_discharge_train.shape[0] + df_discharge_valid.shape[0] + df_discharge_phase_1_test.shape[0] + df_discharge_phase_2.shape[0] == 109168)\n",
        "print(\"\\n\")\n",
        "\n",
        "print(df_radiology_train.shape)\n",
        "print(df_radiology_valid.shape)\n",
        "print(df_radiology_phase_1_test.shape)\n",
        "print(df_radiology_phase_2.shape)\n",
        "print(df_radiology_train.shape[0] + df_radiology_valid.shape[0] + df_radiology_phase_1_test.shape[0] + df_radiology_phase_2.shape[0])\n",
        "print(\"\\n\")\n",
        "\n",
        "print(df_stays_ed_train.shape)\n",
        "print(df_stays_ed_valid.shape)\n",
        "print(df_stays_ed_phase_1_test.shape)\n",
        "print(df_stays_ed_phase_2.shape)\n",
        "assert(df_stays_ed_train.shape[0] + df_stays_ed_valid.shape[0] + df_stays_ed_phase_1_test.shape[0] + df_stays_ed_phase_2.shape[0] == 109403)\n",
        "print(\"\\n\")\n",
        "\n",
        "print(df_diagnoses_ed_train.shape)\n",
        "print(df_diagnoses_ed_valid.shape)\n",
        "print(df_diagnoses_ed_phase_1_test.shape)\n",
        "print(df_diagnoses_ed_phase_2.shape)\n",
        "assert(df_diagnoses_ed_train.shape[0] + df_diagnoses_ed_valid.shape[0] + df_diagnoses_ed_phase_1_test.shape[0] + df_diagnoses_ed_phase_2.shape[0] == 218376)\n",
        "print(\"\\n\")\n",
        "\n",
        "print(df_triage_ed_train.shape)\n",
        "print(df_triage_ed_valid.shape)\n",
        "print(df_triage_ed_phase_1_test.shape)\n",
        "print(df_triage_ed_phase_2.shape)\n",
        "assert(df_triage_ed_train.shape[0] + df_triage_ed_valid.shape[0] + df_triage_ed_phase_1_test.shape[0] + df_triage_ed_phase_2.shape[0] == 109403)\n",
        "print(\"\\n\")"
      ],
      "metadata": {
        "id": "YuEFuf0pT1qk"
      },
      "execution_count": null,
      "outputs": []
    },
    {
      "cell_type": "markdown",
      "source": [
        "### Amendment on 04/10/2024 (Thanks @anquangtang!)"
      ],
      "metadata": {
        "id": "H2tOn8-x-WAs"
      }
    },
    {
      "cell_type": "code",
      "source": [
        "# Improved extraction of Brief Hospital Course sections\n",
        "\n",
        "from collections import OrderedDict\n",
        "input_sections = OrderedDict([\n",
        "    ('Brief Hospital Course', 'Brief Hospital Course'),\n",
        "    ('Medications on Admission', '[A-Za-z_]+ on Admission'),\n",
        "    ('Discharge Medications', '[A-Za-z_]+ Medications'),\n",
        "    ('Discharge Disposition', '[A-Za-z_]+ Disposition'),\n",
        "    ('Discharge Diagnosis', '[A-Za-z_]+ Diagnosis'),\n",
        "    ('Discharge Condition', '[A-Za-z_]+ Condition')\n",
        "])\n",
        "\n",
        "\n",
        "def parse_brief_hospital_course(row):\n",
        "    discharge_summary = row['text']\n",
        "    section_name = 'Brief Hospital Course'\n",
        "    section = input_sections.get(section_name)\n",
        "    for next_section in list(input_sections.values())[1:]:\n",
        "        search = re.findall(section + \".+\\n\" + next_section, discharge_summary, re.DOTALL)\n",
        "        if len(search) > 0:\n",
        "            break\n",
        "    rex = r'(%s?):\\s*\\n{0,2}(.+?)\\s*(\\n\\s*){1,10}(%s):\\n' % (section, next_section)\n",
        "\n",
        "    section_ext = re.findall(rex, discharge_summary, re.DOTALL)\n",
        "    if len(section_ext) > 0:\n",
        "        return section_ext[-1][1]\n",
        "    else:\n",
        "        return None\n",
        "\n",
        "df_target_phase_1_test = df_target_phase_1_test.join(df_discharge[['hadm_id', 'text']].set_index('hadm_id'), on='hadm_id')\n",
        "df_target_phase_1_test['brief_hospital_course'] = df_target_phase_1_test.apply(parse_brief_hospital_course, axis=1)\n",
        "df_target_phase_1_test.drop(columns=['text'], inplace=True)\n",
        "\n",
        "df_target_valid = df_target_valid.join(df_discharge[['hadm_id', 'text']].set_index('hadm_id'), on='hadm_id')\n",
        "df_target_valid['brief_hospital_course'] = df_target_valid.apply(parse_brief_hospital_course, axis=1)\n",
        "df_target_valid.drop(columns=['text'], inplace=True)\n",
        "\n",
        "df_target_train = df_target_train.join(df_discharge[['hadm_id', 'text']].set_index('hadm_id'), on='hadm_id')\n",
        "df_target_train['brief_hospital_course'] = df_target_train.apply(parse_brief_hospital_course, axis=1)\n",
        "df_target_train.drop(columns=['text'], inplace=True)\n",
        "\n",
        "df_target_phase_2 = df_target_phase_2.join(df_discharge[['hadm_id', 'text']].set_index('hadm_id'), on='hadm_id')\n",
        "df_target_phase_2['brief_hospital_course'] = df_target_phase_2.apply(parse_brief_hospital_course, axis=1)\n",
        "df_target_phase_2.drop(columns=['text'], inplace=True)"
      ],
      "metadata": {
        "id": "dqPsjxr9-hR-"
      },
      "execution_count": null,
      "outputs": []
    },
    {
      "cell_type": "code",
      "source": [
        "# Updating word counts\n",
        "df_target_phase_1_test['brief_hospital_course_word_count'] = df_target_phase_1_test['brief_hospital_course'].apply(lambda x: len(str(x).split(\" \")))\n",
        "df_target_valid['brief_hospital_course_word_count'] = df_target_valid['brief_hospital_course'].apply(lambda x: len(str(x).split(\" \")))\n",
        "df_target_train['brief_hospital_course_word_count'] = df_target_train['brief_hospital_course'].apply(lambda x: len(str(x).split(\" \")))\n",
        "df_target_phase_2['brief_hospital_course_word_count'] = df_target_phase_2['brief_hospital_course'].apply(lambda x: len(str(x).split(\" \")))"
      ],
      "metadata": {
        "id": "c3j02O42_rgC"
      },
      "execution_count": null,
      "outputs": []
    },
    {
      "cell_type": "markdown",
      "source": [
        "### Output to csv.gz files"
      ],
      "metadata": {
        "id": "z9FjjjMm-Qcn"
      }
    },
    {
      "cell_type": "code",
      "source": [
        "os.mkdir('discharge-me-data')\n",
        "os.mkdir('discharge-me-data/phase_1_test')\n",
        "os.mkdir('discharge-me-data/train')\n",
        "os.mkdir('discharge-me-data/valid')\n",
        "\n",
        "df_target_train.to_csv('discharge-me-data/train/discharge_target.csv.gz', index=False, compression='gzip')\n",
        "df_target_valid.to_csv('discharge-me-data/valid/discharge_target.csv.gz', index=False, compression='gzip')\n",
        "df_target_phase_1_test.to_csv('discharge-me-data/phase_1_test/discharge_target.csv.gz', index=False, compression='gzip')\n",
        "\n",
        "df_discharge_train.to_csv('discharge-me-data/train/discharge.csv.gz', index=False, compression='gzip')\n",
        "df_discharge_valid.to_csv('discharge-me-data/valid/discharge.csv.gz', index=False, compression='gzip')\n",
        "df_discharge_phase_1_test.to_csv('discharge-me-data/phase_1_test/discharge.csv.gz', index=False, compression='gzip')\n",
        "\n",
        "df_radiology_train.to_csv('discharge-me-data/train/radiology.csv.gz', index=False, compression='gzip')\n",
        "df_radiology_valid.to_csv('discharge-me-data/valid/radiology.csv.gz', index=False, compression='gzip')\n",
        "df_radiology_phase_1_test.to_csv('discharge-me-data/phase_1_test/radiology.csv.gz', index=False, compression='gzip')\n",
        "\n",
        "df_stays_ed_train.to_csv('discharge-me-data/train/edstays.csv.gz', index=False, compression='gzip')\n",
        "df_stays_ed_valid.to_csv('discharge-me-data/valid/edstays.csv.gz', index=False, compression='gzip')\n",
        "df_stays_ed_phase_1_test.to_csv('discharge-me-data/phase_1_test/edstays.csv.gz', index=False, compression='gzip')\n",
        "\n",
        "df_diagnoses_ed_train.to_csv('discharge-me-data/train/diagnosis.csv.gz', index=False, compression='gzip')\n",
        "df_diagnoses_ed_valid.to_csv('discharge-me-data/valid/diagnosis.csv.gz', index=False, compression='gzip')\n",
        "df_diagnoses_ed_phase_1_test.to_csv('discharge-me-data/phase_1_test/diagnosis.csv.gz', index=False, compression='gzip')\n",
        "\n",
        "df_triage_ed_train.to_csv('discharge-me-data/train/triage.csv.gz', index=False, compression='gzip')\n",
        "df_triage_ed_valid.to_csv('discharge-me-data/valid/triage.csv.gz', index=False, compression='gzip')\n",
        "df_triage_ed_phase_1_test.to_csv('discharge-me-data/phase_1_test/triage.csv.gz', index=False, compression='gzip')"
      ],
      "metadata": {
        "id": "dgffUcJQUE53"
      },
      "execution_count": null,
      "outputs": []
    },
    {
      "cell_type": "code",
      "source": [
        "os.mkdir('discharge-me-data/phase_2_test')\n",
        "\n",
        "df_target_phase_2.to_csv('discharge-me-data/phase_2_test/discharge_target.csv.gz', index=False, compression='gzip')\n",
        "df_discharge_phase_2.to_csv('discharge-me-data/phase_2_test/discharge.csv.gz', index=False, compression='gzip')\n",
        "df_radiology_phase_2.to_csv('discharge-me-data/phase_2_test/radiology.csv.gz', index=False, compression='gzip')\n",
        "df_stays_ed_phase_2.to_csv('discharge-me-data/phase_2_test/edstays.csv.gz', index=False, compression='gzip')\n",
        "df_diagnoses_ed_phase_2.to_csv('discharge-me-data/phase_2_test/diagnosis.csv.gz', index=False, compression='gzip')\n",
        "df_triage_ed_phase_2.to_csv('discharge-me-data/phase_2_test/triage.csv.gz', index=False, compression='gzip')"
      ],
      "metadata": {
        "id": "uG8rbjaWUspc"
      },
      "execution_count": null,
      "outputs": []
    }
  ]
}