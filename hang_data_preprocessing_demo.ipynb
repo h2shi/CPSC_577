{
 "cells": [
  {
   "cell_type": "code",
   "execution_count": 19,
   "metadata": {},
   "outputs": [],
   "source": [
    "import pandas as pd\n",
    "import numpy as np\n",
    "import matplotlib.pyplot as plt\n",
    "import re\n",
    "from tqdm import tqdm"
   ]
  },
  {
   "cell_type": "code",
   "execution_count": 11,
   "metadata": {},
   "outputs": [
    {
     "name": "stderr",
     "output_type": "stream",
     "text": [
      "/var/folders/92/pwtffhb94b3526gcw6x7zlqw0000gn/T/ipykernel_81894/1709349325.py:2: DtypeWarning: Columns (4,5) have mixed types. Specify dtype option on import or set low_memory=False.\n",
      "  noteevents = pd.read_csv('demo_data/NOTEEVENTS.csv.gz', compression = 'gzip')\n"
     ]
    }
   ],
   "source": [
    "admissions = pd.read_csv('demo_data/ADMISSIONS.csv.gz', compression = 'gzip')\n",
    "noteevents = pd.read_csv('demo_data/NOTEEVENTS.csv.gz', compression = 'gzip')"
   ]
  },
  {
   "cell_type": "code",
   "execution_count": 14,
   "metadata": {},
   "outputs": [
    {
     "name": "stderr",
     "output_type": "stream",
     "text": [
      "/var/folders/92/pwtffhb94b3526gcw6x7zlqw0000gn/T/ipykernel_81894/1421443384.py:17: FutureWarning: DataFrameGroupBy.fillna is deprecated and will be removed in a future version. Use obj.ffill() or obj.bfill() for forward or backward filling instead. If you want to fill with a single value, use DataFrame.fillna instead\n",
      "  admissions[['NEXT_ADMITTIME','NEXT_ADMISSION_TYPE']] = admissions.groupby(['SUBJECT_ID'])[['NEXT_ADMITTIME','NEXT_ADMISSION_TYPE']].fillna(method = 'bfill')\n",
      "/var/folders/92/pwtffhb94b3526gcw6x7zlqw0000gn/T/ipykernel_81894/1421443384.py:17: FutureWarning: DataFrame.fillna with 'method' is deprecated and will raise in a future version. Use obj.ffill() or obj.bfill() instead.\n",
      "  admissions[['NEXT_ADMITTIME','NEXT_ADMISSION_TYPE']] = admissions.groupby(['SUBJECT_ID'])[['NEXT_ADMITTIME','NEXT_ADMISSION_TYPE']].fillna(method = 'bfill')\n",
      "/var/folders/92/pwtffhb94b3526gcw6x7zlqw0000gn/T/ipykernel_81894/1421443384.py:17: FutureWarning: Downcasting object dtype arrays on .fillna, .ffill, .bfill is deprecated and will change in a future version. Call result.infer_objects(copy=False) instead. To opt-in to the future behavior, set `pd.set_option('future.no_silent_downcasting', True)`\n",
      "  admissions[['NEXT_ADMITTIME','NEXT_ADMISSION_TYPE']] = admissions.groupby(['SUBJECT_ID'])[['NEXT_ADMITTIME','NEXT_ADMISSION_TYPE']].fillna(method = 'bfill')\n"
     ]
    }
   ],
   "source": [
    "admissions.ADMITTIME = pd.to_datetime(admissions.ADMITTIME, format = '%Y-%m-%d %H:%M:%S', errors = 'coerce')\n",
    "admissions.DISCHTIME = pd.to_datetime(admissions.DISCHTIME, format = '%Y-%m-%d %H:%M:%S', errors = 'coerce')\n",
    "admissions.DEATHTIME = pd.to_datetime(admissions.DEATHTIME, format = '%Y-%m-%d %H:%M:%S', errors = 'coerce')\n",
    "\n",
    "admissions = admissions.sort_values(['SUBJECT_ID','ADMITTIME'])\n",
    "admissions = admissions.reset_index(drop = True)\n",
    "admissions['NEXT_ADMITTIME'] = admissions.groupby('SUBJECT_ID').ADMITTIME.shift(-1)\n",
    "admissions['NEXT_ADMISSION_TYPE'] = admissions.groupby('SUBJECT_ID').ADMISSION_TYPE.shift(-1)\n",
    "\n",
    "rows = admissions.NEXT_ADMISSION_TYPE == 'ELECTIVE'\n",
    "admissions.loc[rows,'NEXT_ADMITTIME'] = pd.NaT\n",
    "admissions.loc[rows,'NEXT_ADMISSION_TYPE'] = np.NaN\n",
    "\n",
    "admissions = admissions.sort_values(['SUBJECT_ID','ADMITTIME'])\n",
    "\n",
    "#When we filter out the \"ELECTIVE\", we need to correct the next admit time for these admissions since there might be 'emergency' next admit after \"ELECTIVE\"\n",
    "admissions[['NEXT_ADMITTIME','NEXT_ADMISSION_TYPE']] = admissions.groupby(['SUBJECT_ID'])[['NEXT_ADMITTIME','NEXT_ADMISSION_TYPE']].fillna(method = 'bfill')\n",
    "admissions['DAYS_NEXT_ADMIT']=  (admissions.NEXT_ADMITTIME - admissions.DISCHTIME).dt.total_seconds()/(24*60*60)\n",
    "admissions['OUTPUT_LABEL'] = (admissions.DAYS_NEXT_ADMIT < 30).astype('int')\n",
    "### filter out newborn and death\n",
    "admissions = admissions[admissions['ADMISSION_TYPE']!='NEWBORN']\n",
    "admissions = admissions[admissions.DEATHTIME.isnull()]\n",
    "admissions['DURATION'] = (admissions['DISCHTIME']-admissions['ADMITTIME']).dt.total_seconds()/(24*60*60)"
   ]
  },
  {
   "cell_type": "code",
   "execution_count": 15,
   "metadata": {},
   "outputs": [],
   "source": [
    "noteevents = noteevents.sort_values(by=['SUBJECT_ID','HADM_ID','CHARTDATE'])\n",
    "adm_notes = pd.merge(admissions[['SUBJECT_ID','HADM_ID','ADMITTIME','DISCHTIME','DAYS_NEXT_ADMIT','NEXT_ADMITTIME','ADMISSION_TYPE','DEATHTIME','OUTPUT_LABEL','DURATION']],\n",
    "                     noteevents[['SUBJECT_ID','HADM_ID','CHARTDATE','TEXT','CATEGORY']], \n",
    "                     on = ['SUBJECT_ID','HADM_ID'],\n",
    "                     how = 'left')"
   ]
  },
  {
   "cell_type": "code",
   "execution_count": 16,
   "metadata": {},
   "outputs": [
    {
     "name": "stderr",
     "output_type": "stream",
     "text": [
      "/var/folders/92/pwtffhb94b3526gcw6x7zlqw0000gn/T/ipykernel_81894/2455160033.py:1: UserWarning: Pandas doesn't allow columns to be created via a new attribute name - see https://pandas.pydata.org/pandas-docs/stable/indexing.html#attribute-access\n",
      "  adm_notes.ADMITTIME_C = adm_notes.ADMITTIME.apply(lambda x: str(x).split(' ')[0])\n"
     ]
    }
   ],
   "source": [
    "adm_notes.ADMITTIME_C = adm_notes.ADMITTIME.apply(lambda x: str(x).split(' ')[0])\n",
    "adm_notes['ADMITTIME_C'] = pd.to_datetime(adm_notes.ADMITTIME_C, format = '%Y-%m-%d', errors = 'coerce')\n",
    "adm_notes['CHARTDATE'] = pd.to_datetime(adm_notes.CHARTDATE, format = '%Y-%m-%d', errors = 'coerce')\n",
    "\n",
    "### If Discharge Summary \n",
    "discharge = adm_notes[adm_notes['CATEGORY'] == 'Discharge summary']\n",
    "# multiple discharge summary for one admission -> after examination -> replicated summary -> replace with the last one \n",
    "discharge = (discharge.groupby(['SUBJECT_ID','HADM_ID']).nth(-1)).reset_index()\n",
    "discharge = discharge[discharge['TEXT'].notnull()]\n",
    "\n",
    "### If Less than n days on admission notes (Early notes)\n",
    "def less_n_days_data (adm_notes, n):\n",
    "    \n",
    "    less_n = adm_notes[((adm_notes['CHARTDATE']-adm_notes['ADMITTIME_C']).dt.total_seconds()/(24*60*60))<n]\n",
    "    less_n=less_n[less_n['TEXT'].notnull()]\n",
    "    #concatenate first\n",
    "    concat = pd.DataFrame(less_n.groupby('HADM_ID')['TEXT'].apply(lambda x: \"%s\" % ' '.join(x))).reset_index()\n",
    "    concat['OUTPUT_LABEL'] = concat['HADM_ID'].apply(lambda x: less_n[less_n['HADM_ID']==x].OUTPUT_LABEL.values[0])\n",
    "\n",
    "    return concat\n",
    "\n",
    "less_2 = less_n_days_data(adm_notes, 2)\n",
    "less_3 = less_n_days_data(adm_notes, 3)"
   ]
  },
  {
   "cell_type": "code",
   "execution_count": 24,
   "metadata": {},
   "outputs": [],
   "source": [
    "def preprocess1(x):\n",
    "    y=re.sub('\\\\[(.*?)\\\\]','',x) #remove de-identified brackets\n",
    "    y=re.sub('[0-9]+\\.','',y) #remove 1.2. since the segmenter segments based on this\n",
    "    y=re.sub('dr\\.','doctor',y)\n",
    "    y=re.sub('m\\.d\\.','md',y)\n",
    "    y=re.sub('admission date:','',y)\n",
    "    y=re.sub('discharge date:','',y)\n",
    "    y=re.sub('--|__|==','',y)\n",
    "    return y\n",
    "\n",
    "def preprocessing(df_less_n): \n",
    "    df_less_n['TEXT']=df_less_n['TEXT'].fillna(' ')\n",
    "    df_less_n['TEXT']=df_less_n['TEXT'].str.replace('\\n',' ')\n",
    "    df_less_n['TEXT']=df_less_n['TEXT'].str.replace('\\r',' ')\n",
    "    df_less_n['TEXT']=df_less_n['TEXT'].apply(str.strip)\n",
    "    df_less_n['TEXT']=df_less_n['TEXT'].str.lower()\n",
    "\n",
    "    df_less_n['TEXT']=df_less_n['TEXT'].apply(lambda x: preprocess1(x))\n",
    "\n",
    "    df_len = len(df_less_n)\n",
    "    want=pd.DataFrame({'ID':[],'TEXT':[],'Label':[]})\n",
    "    for i in tqdm(range(df_len)):\n",
    "        x=df_less_n.TEXT.iloc[i].split()\n",
    "        n=int(len(x)/318)\n",
    "        for j in range(n):\n",
    "            new_row = pd.DataFrame({'TEXT':' '.join(x[j*318:(j+1)*318]),'Label':df_less_n.OUTPUT_LABEL.iloc[i],'ID':df_less_n.HADM_ID.iloc[i]}, index=[0])\n",
    "            want=pd.concat([want, new_row],ignore_index=True)\n",
    "        if len(x)%318>10:\n",
    "            new_row = pd.DataFrame({'TEXT':' '.join(x[-(len(x)%318):]),'Label':df_less_n.OUTPUT_LABEL.iloc[i],'ID':df_less_n.HADM_ID.iloc[i]}, index=[0])\n",
    "            want=pd.concat([want, new_row],ignore_index=True)\n",
    "    \n",
    "    return want"
   ]
  },
  {
   "cell_type": "code",
   "execution_count": 25,
   "metadata": {},
   "outputs": [
    {
     "name": "stderr",
     "output_type": "stream",
     "text": [
      "100%|██████████| 43880/43880 [11:33<00:00, 63.24it/s] \n",
      "100%|██████████| 44112/44112 [18:36<00:00, 39.51it/s] \n",
      "100%|██████████| 44551/44551 [35:14<00:00, 21.06it/s]  \n"
     ]
    }
   ],
   "source": [
    "discharge = preprocessing(discharge)\n",
    "less_2 = preprocessing(less_2)\n",
    "less_3 = preprocessing(less_3)"
   ]
  },
  {
   "cell_type": "code",
   "execution_count": 30,
   "metadata": {},
   "outputs": [
    {
     "data": {
      "text/html": [
       "<div>\n",
       "<style scoped>\n",
       "    .dataframe tbody tr th:only-of-type {\n",
       "        vertical-align: middle;\n",
       "    }\n",
       "\n",
       "    .dataframe tbody tr th {\n",
       "        vertical-align: top;\n",
       "    }\n",
       "\n",
       "    .dataframe thead th {\n",
       "        text-align: right;\n",
       "    }\n",
       "</style>\n",
       "<table border=\"1\" class=\"dataframe\">\n",
       "  <thead>\n",
       "    <tr style=\"text-align: right;\">\n",
       "      <th></th>\n",
       "      <th>ID</th>\n",
       "      <th>TEXT</th>\n",
       "      <th>Label</th>\n",
       "    </tr>\n",
       "  </thead>\n",
       "  <tbody>\n",
       "    <tr>\n",
       "      <th>0</th>\n",
       "      <td>100001.0</td>\n",
       "      <td>11:12 am chest (pa &amp; lat) clip # reason: eval ...</td>\n",
       "      <td>0.0</td>\n",
       "    </tr>\n",
       "    <tr>\n",
       "      <th>1</th>\n",
       "      <td>100003.0</td>\n",
       "      <td>sinus rhythm prolonged qt interval is nonspeci...</td>\n",
       "      <td>0.0</td>\n",
       "    </tr>\n",
       "    <tr>\n",
       "      <th>2</th>\n",
       "      <td>100003.0</td>\n",
       "      <td>cervical wnl cardiovascular: (s1: normal), (s2...</td>\n",
       "      <td>0.0</td>\n",
       "    </tr>\n",
       "    <tr>\n",
       "      <th>3</th>\n",
       "      <td>100003.0</td>\n",
       "      <td>gwp fri 3:58 pm no tapable ascites pv patent w...</td>\n",
       "      <td>0.0</td>\n",
       "    </tr>\n",
       "    <tr>\n",
       "      <th>4</th>\n",
       "      <td>100003.0</td>\n",
       "      <td>no pneumothorax or pleural effusion. patient/t...</td>\n",
       "      <td>0.0</td>\n",
       "    </tr>\n",
       "  </tbody>\n",
       "</table>\n",
       "</div>"
      ],
      "text/plain": [
       "         ID                                               TEXT  Label\n",
       "0  100001.0  11:12 am chest (pa & lat) clip # reason: eval ...    0.0\n",
       "1  100003.0  sinus rhythm prolonged qt interval is nonspeci...    0.0\n",
       "2  100003.0  cervical wnl cardiovascular: (s1: normal), (s2...    0.0\n",
       "3  100003.0  gwp fri 3:58 pm no tapable ascites pv patent w...    0.0\n",
       "4  100003.0  no pneumothorax or pleural effusion. patient/t...    0.0"
      ]
     },
     "execution_count": 30,
     "metadata": {},
     "output_type": "execute_result"
    }
   ],
   "source": [
    "less_2.head()"
   ]
  },
  {
   "cell_type": "code",
   "execution_count": 29,
   "metadata": {},
   "outputs": [
    {
     "data": {
      "text/html": [
       "<div>\n",
       "<style scoped>\n",
       "    .dataframe tbody tr th:only-of-type {\n",
       "        vertical-align: middle;\n",
       "    }\n",
       "\n",
       "    .dataframe tbody tr th {\n",
       "        vertical-align: top;\n",
       "    }\n",
       "\n",
       "    .dataframe thead th {\n",
       "        text-align: right;\n",
       "    }\n",
       "</style>\n",
       "<table border=\"1\" class=\"dataframe\">\n",
       "  <thead>\n",
       "    <tr style=\"text-align: right;\">\n",
       "      <th></th>\n",
       "      <th>SUBJECT_ID</th>\n",
       "      <th>HADM_ID</th>\n",
       "      <th>ADMITTIME</th>\n",
       "      <th>DISCHTIME</th>\n",
       "      <th>DAYS_NEXT_ADMIT</th>\n",
       "      <th>NEXT_ADMITTIME</th>\n",
       "      <th>ADMISSION_TYPE</th>\n",
       "      <th>DEATHTIME</th>\n",
       "      <th>OUTPUT_LABEL</th>\n",
       "      <th>DURATION</th>\n",
       "      <th>CHARTDATE</th>\n",
       "      <th>TEXT</th>\n",
       "      <th>CATEGORY</th>\n",
       "      <th>ADMITTIME_C</th>\n",
       "    </tr>\n",
       "  </thead>\n",
       "  <tbody>\n",
       "    <tr>\n",
       "      <th>0</th>\n",
       "      <td>3</td>\n",
       "      <td>145834</td>\n",
       "      <td>2101-10-20 19:08:00</td>\n",
       "      <td>2101-10-31 13:58:00</td>\n",
       "      <td>NaN</td>\n",
       "      <td>NaT</td>\n",
       "      <td>EMERGENCY</td>\n",
       "      <td>NaT</td>\n",
       "      <td>0</td>\n",
       "      <td>10.784722</td>\n",
       "      <td>2101-10-20</td>\n",
       "      <td>Sinus rhythm\\nInferior/lateral T changes are n...</td>\n",
       "      <td>ECG</td>\n",
       "      <td>2101-10-20</td>\n",
       "    </tr>\n",
       "    <tr>\n",
       "      <th>1</th>\n",
       "      <td>3</td>\n",
       "      <td>145834</td>\n",
       "      <td>2101-10-20 19:08:00</td>\n",
       "      <td>2101-10-31 13:58:00</td>\n",
       "      <td>NaN</td>\n",
       "      <td>NaT</td>\n",
       "      <td>EMERGENCY</td>\n",
       "      <td>NaT</td>\n",
       "      <td>0</td>\n",
       "      <td>10.784722</td>\n",
       "      <td>2101-10-20</td>\n",
       "      <td>[**2101-10-20**] 10:23 PM\\n CHEST (PORTABLE AP...</td>\n",
       "      <td>Radiology</td>\n",
       "      <td>2101-10-20</td>\n",
       "    </tr>\n",
       "    <tr>\n",
       "      <th>2</th>\n",
       "      <td>3</td>\n",
       "      <td>145834</td>\n",
       "      <td>2101-10-20 19:08:00</td>\n",
       "      <td>2101-10-31 13:58:00</td>\n",
       "      <td>NaN</td>\n",
       "      <td>NaT</td>\n",
       "      <td>EMERGENCY</td>\n",
       "      <td>NaT</td>\n",
       "      <td>0</td>\n",
       "      <td>10.784722</td>\n",
       "      <td>2101-10-20</td>\n",
       "      <td>[**2101-10-20**] 6:16 PM\\n CHEST (PORTABLE AP)...</td>\n",
       "      <td>Radiology</td>\n",
       "      <td>2101-10-20</td>\n",
       "    </tr>\n",
       "    <tr>\n",
       "      <th>3</th>\n",
       "      <td>3</td>\n",
       "      <td>145834</td>\n",
       "      <td>2101-10-20 19:08:00</td>\n",
       "      <td>2101-10-31 13:58:00</td>\n",
       "      <td>NaN</td>\n",
       "      <td>NaT</td>\n",
       "      <td>EMERGENCY</td>\n",
       "      <td>NaT</td>\n",
       "      <td>0</td>\n",
       "      <td>10.784722</td>\n",
       "      <td>2101-10-20</td>\n",
       "      <td>[**2101-10-20**] 5:49 PM\\n CT ABDOMEN W/O CONT...</td>\n",
       "      <td>Radiology</td>\n",
       "      <td>2101-10-20</td>\n",
       "    </tr>\n",
       "    <tr>\n",
       "      <th>4</th>\n",
       "      <td>3</td>\n",
       "      <td>145834</td>\n",
       "      <td>2101-10-20 19:08:00</td>\n",
       "      <td>2101-10-31 13:58:00</td>\n",
       "      <td>NaN</td>\n",
       "      <td>NaT</td>\n",
       "      <td>EMERGENCY</td>\n",
       "      <td>NaT</td>\n",
       "      <td>0</td>\n",
       "      <td>10.784722</td>\n",
       "      <td>2101-10-21</td>\n",
       "      <td>PATIENT/TEST INFORMATION:\\nIndication: S/P Car...</td>\n",
       "      <td>Echo</td>\n",
       "      <td>2101-10-20</td>\n",
       "    </tr>\n",
       "  </tbody>\n",
       "</table>\n",
       "</div>"
      ],
      "text/plain": [
       "   SUBJECT_ID  HADM_ID           ADMITTIME           DISCHTIME  \\\n",
       "0           3   145834 2101-10-20 19:08:00 2101-10-31 13:58:00   \n",
       "1           3   145834 2101-10-20 19:08:00 2101-10-31 13:58:00   \n",
       "2           3   145834 2101-10-20 19:08:00 2101-10-31 13:58:00   \n",
       "3           3   145834 2101-10-20 19:08:00 2101-10-31 13:58:00   \n",
       "4           3   145834 2101-10-20 19:08:00 2101-10-31 13:58:00   \n",
       "\n",
       "   DAYS_NEXT_ADMIT NEXT_ADMITTIME ADMISSION_TYPE DEATHTIME  OUTPUT_LABEL  \\\n",
       "0              NaN            NaT      EMERGENCY       NaT             0   \n",
       "1              NaN            NaT      EMERGENCY       NaT             0   \n",
       "2              NaN            NaT      EMERGENCY       NaT             0   \n",
       "3              NaN            NaT      EMERGENCY       NaT             0   \n",
       "4              NaN            NaT      EMERGENCY       NaT             0   \n",
       "\n",
       "    DURATION  CHARTDATE                                               TEXT  \\\n",
       "0  10.784722 2101-10-20  Sinus rhythm\\nInferior/lateral T changes are n...   \n",
       "1  10.784722 2101-10-20  [**2101-10-20**] 10:23 PM\\n CHEST (PORTABLE AP...   \n",
       "2  10.784722 2101-10-20  [**2101-10-20**] 6:16 PM\\n CHEST (PORTABLE AP)...   \n",
       "3  10.784722 2101-10-20  [**2101-10-20**] 5:49 PM\\n CT ABDOMEN W/O CONT...   \n",
       "4  10.784722 2101-10-21  PATIENT/TEST INFORMATION:\\nIndication: S/P Car...   \n",
       "\n",
       "    CATEGORY ADMITTIME_C  \n",
       "0        ECG  2101-10-20  \n",
       "1  Radiology  2101-10-20  \n",
       "2  Radiology  2101-10-20  \n",
       "3  Radiology  2101-10-20  \n",
       "4       Echo  2101-10-20  "
      ]
     },
     "execution_count": 29,
     "metadata": {},
     "output_type": "execute_result"
    }
   ],
   "source": [
    "adm_notes.head()"
   ]
  },
  {
   "cell_type": "code",
   "execution_count": null,
   "metadata": {},
   "outputs": [],
   "source": []
  }
 ],
 "metadata": {
  "kernelspec": {
   "display_name": ".venv",
   "language": "python",
   "name": "python3"
  },
  "language_info": {
   "codemirror_mode": {
    "name": "ipython",
    "version": 3
   },
   "file_extension": ".py",
   "mimetype": "text/x-python",
   "name": "python",
   "nbconvert_exporter": "python",
   "pygments_lexer": "ipython3",
   "version": "3.9.6"
  }
 },
 "nbformat": 4,
 "nbformat_minor": 2
}
